{
 "cells": [
  {
   "cell_type": "code",
   "execution_count": 4,
   "metadata": {},
   "outputs": [],
   "source": [
    "import numpy as np\n",
    "import pandas as pd"
   ]
  },
  {
   "cell_type": "code",
   "execution_count": 24,
   "metadata": {},
   "outputs": [
    {
     "name": "stdout",
     "output_type": "stream",
     "text": [
      "20\n"
     ]
    }
   ],
   "source": [
    "# f1=pd.ExcelFile('Day1_register.xlsx')\n",
    "df1=pd.read_excel('Day1_register.xlsx','Sheet1')\n",
    "df2=pd.read_excel('Day2_register.xlsx','Sheet1')\n",
    "name1=np.array(df1['Name'])\n",
    "name2=np.array(df2['Name'])\n",
    "print(len(np.union1d(name1,name2)))"
   ]
  },
  {
   "cell_type": "code",
   "execution_count": 25,
   "metadata": {},
   "outputs": [
    {
     "data": {
      "text/plain": [
       "0    Christine\n",
       "1        Susan\n",
       "2       Judith\n",
       "3         Mary\n",
       "4    Elizabeth\n",
       "5     Patricia\n",
       "6      Barbara\n",
       "7      Lynette\n",
       "8        Robyn\n",
       "9        Karen\n",
       "Name: Name, dtype: object"
      ]
     },
     "execution_count": 25,
     "metadata": {},
     "output_type": "execute_result"
    }
   ],
   "source": [
    "df1.merge(df2,on='Name',how='inner')['Name']"
   ]
  },
  {
   "cell_type": "code",
   "execution_count": 29,
   "metadata": {},
   "outputs": [
    {
     "data": {
      "text/plain": [
       "0     Christine\n",
       "1         Susan\n",
       "2      Margaret\n",
       "3        Judith\n",
       "4      Jennifer\n",
       "5          Mary\n",
       "6     Elizabeth\n",
       "7      Patricia\n",
       "8         Linda\n",
       "9       Barbara\n",
       "10      Lynette\n",
       "11        Robyn\n",
       "12         Anne\n",
       "13        Karen\n",
       "14        Helen\n",
       "15       Sandra\n",
       "16        Wendy\n",
       "17        Janet\n",
       "18      Heather\n",
       "19        Diane\n",
       "Name: Name, dtype: object"
      ]
     },
     "execution_count": 29,
     "metadata": {},
     "output_type": "execute_result"
    }
   ],
   "source": [
    "either=df1.merge(df2,on='Name',how='outer')['Name']\n",
    "either"
   ]
  },
  {
   "cell_type": "code",
   "execution_count": 30,
   "metadata": {},
   "outputs": [
    {
     "data": {
      "text/plain": [
       "20"
      ]
     },
     "execution_count": 30,
     "metadata": {},
     "output_type": "execute_result"
    }
   ],
   "source": [
    "either.count()"
   ]
  },
  {
   "cell_type": "code",
   "execution_count": 33,
   "metadata": {},
   "outputs": [
    {
     "data": {
      "text/html": [
       "<div>\n",
       "<style scoped>\n",
       "    .dataframe tbody tr th:only-of-type {\n",
       "        vertical-align: middle;\n",
       "    }\n",
       "\n",
       "    .dataframe tbody tr th {\n",
       "        vertical-align: top;\n",
       "    }\n",
       "\n",
       "    .dataframe thead th {\n",
       "        text-align: right;\n",
       "    }\n",
       "</style>\n",
       "<table border=\"1\" class=\"dataframe\">\n",
       "  <thead>\n",
       "    <tr style=\"text-align: right;\">\n",
       "      <th></th>\n",
       "      <th>Name</th>\n",
       "      <th>Time of Joining_x</th>\n",
       "      <th>Duration</th>\n",
       "      <th>Time of Joining_y</th>\n",
       "    </tr>\n",
       "  </thead>\n",
       "  <tbody>\n",
       "    <tr>\n",
       "      <th>0</th>\n",
       "      <td>Christine</td>\n",
       "      <td>11:00:00</td>\n",
       "      <td>40</td>\n",
       "      <td>11:00:00</td>\n",
       "    </tr>\n",
       "    <tr>\n",
       "      <th>1</th>\n",
       "      <td>Susan</td>\n",
       "      <td>11:04:00</td>\n",
       "      <td>30</td>\n",
       "      <td>11:06:00</td>\n",
       "    </tr>\n",
       "    <tr>\n",
       "      <th>2</th>\n",
       "      <td>Margaret</td>\n",
       "      <td>11:08:00</td>\n",
       "      <td>30</td>\n",
       "      <td>-</td>\n",
       "    </tr>\n",
       "    <tr>\n",
       "      <th>3</th>\n",
       "      <td>Judith</td>\n",
       "      <td>11:01:00</td>\n",
       "      <td>40</td>\n",
       "      <td>11:09:00</td>\n",
       "    </tr>\n",
       "    <tr>\n",
       "      <th>4</th>\n",
       "      <td>Jennifer</td>\n",
       "      <td>11:12:00</td>\n",
       "      <td>50</td>\n",
       "      <td>-</td>\n",
       "    </tr>\n",
       "    <tr>\n",
       "      <th>5</th>\n",
       "      <td>Mary</td>\n",
       "      <td>11:10:00</td>\n",
       "      <td>30</td>\n",
       "      <td>-</td>\n",
       "    </tr>\n",
       "    <tr>\n",
       "      <th>6</th>\n",
       "      <td>Elizabeth</td>\n",
       "      <td>11:11:00</td>\n",
       "      <td>30</td>\n",
       "      <td>11:08:00</td>\n",
       "    </tr>\n",
       "    <tr>\n",
       "      <th>7</th>\n",
       "      <td>Patricia</td>\n",
       "      <td>11:07:00</td>\n",
       "      <td>40</td>\n",
       "      <td>11:08:00</td>\n",
       "    </tr>\n",
       "    <tr>\n",
       "      <th>8</th>\n",
       "      <td>Linda</td>\n",
       "      <td>11:08:00</td>\n",
       "      <td>50</td>\n",
       "      <td>-</td>\n",
       "    </tr>\n",
       "    <tr>\n",
       "      <th>9</th>\n",
       "      <td>Barbara</td>\n",
       "      <td>11:15:00</td>\n",
       "      <td>30</td>\n",
       "      <td>11:14:00</td>\n",
       "    </tr>\n",
       "    <tr>\n",
       "      <th>10</th>\n",
       "      <td>Lynette</td>\n",
       "      <td>11:02:00</td>\n",
       "      <td>40</td>\n",
       "      <td>11:10:00</td>\n",
       "    </tr>\n",
       "    <tr>\n",
       "      <th>11</th>\n",
       "      <td>Robyn</td>\n",
       "      <td>11:03:00</td>\n",
       "      <td>30</td>\n",
       "      <td>11:00:00</td>\n",
       "    </tr>\n",
       "    <tr>\n",
       "      <th>12</th>\n",
       "      <td>Anne</td>\n",
       "      <td>11:19:00</td>\n",
       "      <td>30</td>\n",
       "      <td>-</td>\n",
       "    </tr>\n",
       "    <tr>\n",
       "      <th>13</th>\n",
       "      <td>Karen</td>\n",
       "      <td>11:13:00</td>\n",
       "      <td>40</td>\n",
       "      <td>11:09:00</td>\n",
       "    </tr>\n",
       "    <tr>\n",
       "      <th>14</th>\n",
       "      <td>Helen</td>\n",
       "      <td>11:05:00</td>\n",
       "      <td>50</td>\n",
       "      <td>-</td>\n",
       "    </tr>\n",
       "    <tr>\n",
       "      <th>15</th>\n",
       "      <td>Mary</td>\n",
       "      <td>-</td>\n",
       "      <td>50</td>\n",
       "      <td>11:10:00</td>\n",
       "    </tr>\n",
       "    <tr>\n",
       "      <th>16</th>\n",
       "      <td>Sandra</td>\n",
       "      <td>-</td>\n",
       "      <td>30</td>\n",
       "      <td>11:12:00</td>\n",
       "    </tr>\n",
       "    <tr>\n",
       "      <th>17</th>\n",
       "      <td>Wendy</td>\n",
       "      <td>-</td>\n",
       "      <td>40</td>\n",
       "      <td>11:13:00</td>\n",
       "    </tr>\n",
       "    <tr>\n",
       "      <th>18</th>\n",
       "      <td>Janet</td>\n",
       "      <td>-</td>\n",
       "      <td>50</td>\n",
       "      <td>11:02:00</td>\n",
       "    </tr>\n",
       "    <tr>\n",
       "      <th>19</th>\n",
       "      <td>Heather</td>\n",
       "      <td>-</td>\n",
       "      <td>30</td>\n",
       "      <td>11:08:00</td>\n",
       "    </tr>\n",
       "    <tr>\n",
       "      <th>20</th>\n",
       "      <td>Diane</td>\n",
       "      <td>-</td>\n",
       "      <td>30</td>\n",
       "      <td>11:06:00</td>\n",
       "    </tr>\n",
       "  </tbody>\n",
       "</table>\n",
       "</div>"
      ],
      "text/plain": [
       "         Name Time of Joining_x  Duration Time of Joining_y\n",
       "0   Christine          11:00:00        40          11:00:00\n",
       "1       Susan          11:04:00        30          11:06:00\n",
       "2    Margaret          11:08:00        30                 -\n",
       "3      Judith          11:01:00        40          11:09:00\n",
       "4    Jennifer          11:12:00        50                 -\n",
       "5        Mary          11:10:00        30                 -\n",
       "6   Elizabeth          11:11:00        30          11:08:00\n",
       "7    Patricia          11:07:00        40          11:08:00\n",
       "8       Linda          11:08:00        50                 -\n",
       "9     Barbara          11:15:00        30          11:14:00\n",
       "10    Lynette          11:02:00        40          11:10:00\n",
       "11      Robyn          11:03:00        30          11:00:00\n",
       "12       Anne          11:19:00        30                 -\n",
       "13      Karen          11:13:00        40          11:09:00\n",
       "14      Helen          11:05:00        50                 -\n",
       "15       Mary                 -        50          11:10:00\n",
       "16     Sandra                 -        30          11:12:00\n",
       "17      Wendy                 -        40          11:13:00\n",
       "18      Janet                 -        50          11:02:00\n",
       "19    Heather                 -        30          11:08:00\n",
       "20      Diane                 -        30          11:06:00"
      ]
     },
     "execution_count": 33,
     "metadata": {},
     "output_type": "execute_result"
    }
   ],
   "source": [
    "df3=df1.merge(df2,how='outer',on=['Name','Duration'])\n",
    "df3.fillna(value='-')"
   ]
  },
  {
   "cell_type": "code",
   "execution_count": null,
   "metadata": {},
   "outputs": [],
   "source": []
  }
 ],
 "metadata": {
  "kernelspec": {
   "display_name": "Python 3",
   "language": "python",
   "name": "python3"
  },
  "language_info": {
   "codemirror_mode": {
    "name": "ipython",
    "version": 3
   },
   "file_extension": ".py",
   "mimetype": "text/x-python",
   "name": "python",
   "nbconvert_exporter": "python",
   "pygments_lexer": "ipython3",
   "version": "3.10.12"
  }
 },
 "nbformat": 4,
 "nbformat_minor": 2
}
