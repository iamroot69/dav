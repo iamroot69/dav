{
 "cells": [
  {
   "cell_type": "code",
   "execution_count": 1,
   "metadata": {},
   "outputs": [],
   "source": [
    "dic = {\"Boys\": [72, 68, 70, 69, 74], \"Girls\": [63, 65, 69, 62, 61]}\n",
    "b=dic[\"Boys\"]\n",
    "g=dic['Girls']"
   ]
  },
  {
   "cell_type": "code",
   "execution_count": 3,
   "metadata": {},
   "outputs": [
    {
     "data": {
      "text/plain": [
       "[{'Boys': 72, 'Girls': 63},\n",
       " {'Boys': 68, 'Girls': 65},\n",
       " {'Boys': 70, 'Girls': 69},\n",
       " {'Boys': 69, 'Girls': 62},\n",
       " {'Boys': 74, 'Girls': 61}]"
      ]
     },
     "execution_count": 3,
     "metadata": {},
     "output_type": "execute_result"
    }
   ],
   "source": [
    "l=[]\n",
    "for i in range(len(b)):\n",
    "    l.append({\"Boys\":b[i],\"Girls\":g[i]})\n",
    "l"
   ]
  },
  {
   "cell_type": "code",
   "execution_count": null,
   "metadata": {},
   "outputs": [],
   "source": []
  }
 ],
 "metadata": {
  "kernelspec": {
   "display_name": "Python 3",
   "language": "python",
   "name": "python3"
  },
  "language_info": {
   "codemirror_mode": {
    "name": "ipython",
    "version": 3
   },
   "file_extension": ".py",
   "mimetype": "text/x-python",
   "name": "python",
   "nbconvert_exporter": "python",
   "pygments_lexer": "ipython3",
   "version": "3.10.12"
  }
 },
 "nbformat": 4,
 "nbformat_minor": 2
}
